{
 "cells": [
  {
   "cell_type": "markdown",
   "metadata": {},
   "source": [
    "# Data Analysis of P2P market as MAD problem\n",
    "We evaluate the results of the simulation of a prosumer participating in a fully decentralized P2P market. This work is modelled as Multi-armed Bandit problem, a classic control problem that we can apply RL techniques.\n",
    "\n",
    "This analysis starts by looking to the results presented in the Informs talk as ''Prosumer choice formulatedas Multi Armed Bandit problem - RL application''.\n",
    "\n",
    "This notebook analyses the simulation saved on the `/results` folder of the GitHub repo ([link here])(https://github.com/tabsa/P2P_market_MAD)."
   ]
  },
  {
   "cell_type": "code",
   "execution_count": 18,
   "metadata": {},
   "outputs": [],
   "source": [
    "# Import packages\n",
    "import numpy as np\n",
    "import pandas as pd\n",
    "import pickle as pkl\n",
    "from pathlib import Path\n",
    "import matplotlib.pyplot as plt\n",
    "import seaborn as sns"
   ]
  },
  {
   "cell_type": "markdown",
   "metadata": {},
   "source": [
    "Start with upload the simulations done for the Informs talk that shows the first results with this work:"
   ]
  },
  {
   "cell_type": "code",
   "execution_count": 19,
   "metadata": {},
   "outputs": [
    {
     "ename": "FileNotFoundError",
     "evalue": "[Errno 2] No such file or directory: '/home/peregrino/PycharmProjects/P2P_market_MAD/results/sim_results_fixed_target_15_validation.pkl'",
     "output_type": "error",
     "traceback": [
      "\u001b[0;31m---------------------------------------------------------------------------\u001b[0m",
      "\u001b[0;31mFileNotFoundError\u001b[0m                         Traceback (most recent call last)",
      "\u001b[0;32m<ipython-input-19-2b01fc13fcd4>\u001b[0m in \u001b[0;36m<module>\u001b[0;34m\u001b[0m\n\u001b[1;32m      3\u001b[0m \u001b[0mfilename\u001b[0m \u001b[0;34m=\u001b[0m \u001b[0;34m'sim_results_fixed_target_15_validation.pkl'\u001b[0m\u001b[0;34m\u001b[0m\u001b[0;34m\u001b[0m\u001b[0m\n\u001b[1;32m      4\u001b[0m \u001b[0mpath_file\u001b[0m \u001b[0;34m=\u001b[0m \u001b[0mwok_dir\u001b[0m \u001b[0;34m/\u001b[0m \u001b[0mfilename\u001b[0m\u001b[0;34m\u001b[0m\u001b[0;34m\u001b[0m\u001b[0m\n\u001b[0;32m----> 5\u001b[0;31m \u001b[0mdata\u001b[0m \u001b[0;34m=\u001b[0m \u001b[0mpkl\u001b[0m\u001b[0;34m.\u001b[0m\u001b[0mload\u001b[0m\u001b[0;34m(\u001b[0m\u001b[0mopen\u001b[0m\u001b[0;34m(\u001b[0m\u001b[0mpath_file\u001b[0m\u001b[0;34m,\u001b[0m \u001b[0;34m'rb'\u001b[0m\u001b[0;34m)\u001b[0m\u001b[0;34m)\u001b[0m \u001b[0;31m# Read file\u001b[0m\u001b[0;34m\u001b[0m\u001b[0;34m\u001b[0m\u001b[0m\n\u001b[0m\u001b[1;32m      6\u001b[0m \u001b[0;31m# Plot parameters\u001b[0m\u001b[0;34m\u001b[0m\u001b[0;34m\u001b[0m\u001b[0;34m\u001b[0m\u001b[0m\n\u001b[1;32m      7\u001b[0m \u001b[0mplt_colmap\u001b[0m \u001b[0;34m=\u001b[0m \u001b[0mplt\u001b[0m\u001b[0;34m.\u001b[0m\u001b[0mget_cmap\u001b[0m\u001b[0;34m(\u001b[0m\u001b[0;34m\"tab10\"\u001b[0m\u001b[0;34m,\u001b[0m \u001b[0;36m15\u001b[0m\u001b[0;34m)\u001b[0m\u001b[0;34m\u001b[0m\u001b[0;34m\u001b[0m\u001b[0m\n",
      "\u001b[0;31mFileNotFoundError\u001b[0m: [Errno 2] No such file or directory: '/home/peregrino/PycharmProjects/P2P_market_MAD/results/sim_results_fixed_target_15_validation.pkl'"
     ]
    }
   ],
   "source": [
    "# Read pickle file\n",
    "wok_dir = Path.cwd() / 'results/'\n",
    "filename = 'sim_results_fixed_target_15_validation.pkl'\n",
    "path_file = wok_dir / filename\n",
    "data = pkl.load(open(path_file, 'rb')) # Read file\n",
    "# Plot parameters\n",
    "plt_colmap = plt.get_cmap(\"tab10\", 15)\n",
    "sns.set_style(\"whitegrid\")\n"
   ]
  },
  {
   "cell_type": "markdown",
   "metadata": {},
   "source": [
    "Deploy functions for plotting. Each function will be used to plot a different result out of the simulation:"
   ]
  },
  {
   "cell_type": "code",
   "execution_count": null,
   "metadata": {},
   "outputs": [],
   "source": [
    "## Define Plot functions\n",
    "\n",
    "# Plot the mean reward per episode and RL_agent (You can have cumulative option as well)\n",
    "def plot_reward_per_episode(df_score, y_feat, plt_label, plt_marker, size=(10,8), y_sum=False):\n",
    "    # Get the plot parameters\n",
    "    no_RL_agents = len(df_score) # Number of agents\n",
    "    no_episodes = df_score[0].shape[0]\n",
    "    plt.figure(figsize=size)\n",
    "    x = np.arange(0, no_episodes) # Episode range\n",
    "    for i in range(no_RL_agents):\n",
    "        y = df_score[i][y_feat]\n",
    "        y = np.cumsum(y) if y_sum else y # Cumulative plot\n",
    "        plt.plot(x, y, label=plt_label[i], marker=plt_marker[i], linestyle='--')\n",
    "        \n",
    "# Plot the Q-action value per episode and RL_agent\n",
    "def plot_Q_val_distribution(df_score, theta, plt_label, n_bins=20, size=(10,8)):\n",
    "    from statsmodels.distributions.empirical_distribution import ECDF\n",
    "    # Get the plot parameters\n",
    "    no_RL_agents = len(df_score)\n",
    "    no_episodes = df_score[0].shape[0]\n",
    "    fig, axis = plt.subplots(1, 2, figsize=size, sharex=True)\n",
    "    x = np.arange(0, no_episodes)\n",
    "    for i in range(no_RL_agents):\n",
    "        x = df_score[i][theta]\n",
    "        axis[0].hist(x, density=True, bins=n_bins, label=plt_label[i])\n",
    "        ecdf = ECDF(x)\n",
    "        axis[1].plot(ecdf.x, ecdf.y, label=plt_label[i]) \n",
    "    return fig, axis\n",
    "\n",
    "# Plot the policy per agent per episode\n",
    "def plot_action_choice(policy, target, epi_id, y_lim, size=(10,8)):\n",
    "    # Plot parameters\n",
    "    no_steps = policy.shape[1]\n",
    "    fig, axis = plt.subplots(3, 1, figsize=size, sharex=True)\n",
    "    x = np.arange(0, no_steps) # Steps of the episode (0 ... N)\n",
    "    y1 = policy[0,:,epi_id].astype(int) # Partner selected per x-value (n_step)\n",
    "    target = target * np.ones(no_steps) # Array of energy_target for all n_steps of the episode\n",
    "    # Subplot 1\n",
    "    axis[0].scatter(x, y1, cmap=plt_colmap, c=y1, marker='.', alpha=1)\n",
    "    axis[0].set_yticks(np.arange(0, y_lim, step=2))\n",
    "    # Subplot 2\n",
    "    axis[1].plot(x, policy[4, :, epi_id], color='green', label='Total reward')\n",
    "    axis[1].plot(x, policy[3, :, epi_id], color='green', alpha=0.5, linestyle='--', label='Reward_per_step')\n",
    "    axis[1].set_yticks(np.linspace(0, 1, 6))\n",
    "    # Subplot 3\n",
    "    axis[2].bar(x, policy[1, :, epi_id])\n",
    "    axis[2].plot(x, policy[2, :, epi_id], color='cyan', marker='o', label='state_n')\n",
    "    axis[2].plot(x, target, color='red', linestyle='--', label='E_target')\n",
    "    axis[2].set_yticks(np.linspace(0, target.max(), 4))\n",
    "    return fig, axis\n",
    "\n",
    "# Plot the optimal estimator Q_arm_j\n",
    "def plot_final_probability(data, reward, agents, p_j, plt_label, rd_pct=90, width=0.15, size=(10,8)):\n",
    "    # Plot parameters\n",
    "    no_RL_agents = len(data)\n",
    "    no_offers = data[0].shape[1]\n",
    "    x = np.arange(no_offers)\n",
    "    # Initialize plot\n",
    "    fig, ax = plt.subplots(figsize=size)\n",
    "    ax.bar(x, p_j, width, label='True probability') # Always plot the True probability\n",
    "    # Options selected by the user --> idx is the list of RL_agents \n",
    "    k=1\n",
    "    for i in agents:\n",
    "        mean_rd = reward[i]['mean_rd'].to_numpy()\n",
    "        reward_bound = np.percentile(mean_rd, rd_pct)\n",
    "        epi_rg = np.where(mean_rd >= reward_bound)[0]\n",
    "        Q_opt_arm_j = data[i][epi_rg,:,0].mean(axis=0)\n",
    "        ax.bar(x + width*k, Q_opt_arm_j, width, label=plt_label[i])\n",
    "        k += 1\n",
    "    \n",
    "    ax.set_xticks(x)\n",
    "    return fig, ax\n",
    "        "
   ]
  },
  {
   "cell_type": "markdown",
   "metadata": {},
   "source": [
    "## Total reward $R_{Total}$ evolution per episode\n",
    "$R^i_{Total}$ is mean reward, given by\n",
    "\\begin{equation}\n",
    "    R^i_{Total} = \\frac{1}{N_i} \\sum_n R^i_n\n",
    "\\end{equation} <br>\n",
    "where $N_i$ is the total number of steps per episode $i$ and $R^i_n$ is the reward per step $n$ (also called reward signal). In fact, $R^i_{Total}$ is constantly updated every step $n$ of each episode $i$.\n",
    "\n",
    "Here, we plot the $R^i_{Total}$ on the final step $n$ for all episodes with the following conditions:\n",
    " - The same Energy_target = 15 kWh for all episodes $i$. \n",
    " - Non-existing correlation, i.e. episodes are independent from each other\n",
    " - For the first 20 episodes, all startegies adopt a 'Random policy' for learning the Q-value $Q_n(j)$ of each partner $j$\n",
    " - **Goal:** Evaluate the learning process of each policy (Random, Epsilon-greedy, Thompson-Sampler). If the *Epsilon-greedy* and *Thompson-Sampler* beat **constantly** the *Random policy*\n",
    " - You can disable the cumulative plot in the function `plot_reward_per_episode` by switching the last parameter from `False` to `True`"
   ]
  },
  {
   "cell_type": "code",
   "execution_count": null,
   "metadata": {},
   "outputs": [],
   "source": [
    "no_epi = data['simulation']['episodes']\n",
    "label = data['agents']['id']\n",
    "marker = ['o', '*', '^']\n",
    "ax_label = ['Episode #', 'Total reward']\n",
    "ax_size = 18\n",
    "plot_reward_per_episode(data['outcome'], 'mean_rd', label, marker, (15,8))\n",
    "# Legend and labels for the plot\n",
    "plt.legend(fontsize=ax_size)\n",
    "plt.ylabel(ax_label[1], fontsize=ax_size)\n",
    "plt.xticks(fontsize=ax_size)\n",
    "plt.yticks(fontsize=ax_size)\n",
    "plt.xlabel(ax_label[0], fontsize=ax_size)\n",
    "plt.title(f'Cumulative reward across {no_epi} episodes', fontsize=20)\n",
    "plt.show()"
   ]
  },
  {
   "cell_type": "markdown",
   "metadata": {},
   "source": [
    "**Takeaways:** Both strategies outperform the *Random policy*, but the *Epsilon-greedy* reached out the best results.\n",
    "\n",
    "## Regret $G_{Total}$ per episode\n",
    "Here we plot the estimated mean regret, if you remember the formulate. The regret is calculated as\n",
    "\\begin{equation}\n",
    "    G^i_{Total} = \\frac{1}{N_i} \\sum_n\\left[ \\max(Q^i_n(j) - Q^i_n(j) \\right]\n",
    "\\end{equation} <br>\n",
    "where $Q^i_n(j)$ is Q-value of partner/arm $j$ per step $n$. Q_n is a vector with the updated Action-value function per partner $j$, so we update it every step $n$. We use $Q_n$ because we are unaware of the **Probability Distribution**, Bernoulli $B(1, p_j)$ of each offer (partner $j$)."
   ]
  },
  {
   "cell_type": "code",
   "execution_count": null,
   "metadata": {},
   "outputs": [],
   "source": [
    "no_epi = data['simulation']['episodes']\n",
    "label = data['agents']['id']\n",
    "marker = ['o', '*', '^']\n",
    "ax_label = ['Episode #', 'Mean reward']\n",
    "ax_size = 18\n",
    "plot_reward_per_episode(data['outcome'], 'mean_regret', label, marker, (15,8))\n",
    "# Legend and labels for the plot\n",
    "plt.legend(fontsize=ax_size)\n",
    "plt.ylabel(ax_label[1], fontsize=ax_size)\n",
    "plt.xticks(fontsize=ax_size)\n",
    "plt.yticks(fontsize=ax_size)\n",
    "plt.xlabel(ax_label[0], fontsize=ax_size)\n",
    "plt.title(f'Regret across {no_epi} episodes', fontsize=20)\n",
    "plt.show()"
   ]
  },
  {
   "cell_type": "markdown",
   "metadata": {},
   "source": [
    "**Takeaways:** The regret in both strategies is low afgter the initial learning phase. However, we have approx. 0.3 of regret which it is not ideal for our simulations.\n",
    "\n",
    "## Empirical distribution and Histogram of the $R_{Total}$ and $G_{Total}$\n",
    "Here we want to find some trend from the empirical CDF and histogram of the results for all episodes, se once again we plot the $R^i_{Total}$ and $G^i _{Total}$."
   ]
  },
  {
   "cell_type": "code",
   "execution_count": null,
   "metadata": {
    "scrolled": false
   },
   "outputs": [],
   "source": [
    "# Show the histogram and CDF of Q-action value, since it is probability estimator\n",
    "theta_feat = ['mean_rd', 'mean_regret']\n",
    "ax_label = ['Q-action estimator', 'Regret estimator', 'Frequency', 'Cumulative Probability']\n",
    "subplot_title = ['Histogram', 'CDF (quantile)']\n",
    "for theta in theta_feat:\n",
    "    fg, ax = plot_Q_val_distribution(data['outcome'], theta, label, size=(15,8)) # Only plotting 'Random' and 'Epsilon-greedy'\n",
    "    # Legend and labels for the plot\n",
    "    [ax[i].legend(fontsize=ax_size) for i in range(len(ax))]\n",
    "    x_id_label = 0 if theta == theta_feat[0] else 1\n",
    "    [ax[i].set_xlabel(xlabel=ax_label[x_id_label], fontsize=ax_size) for i in range(len(ax))]\n",
    "    [ax[i].set_ylabel(ylabel=ax_label[i+2], fontsize=ax_size) for i in range(len(ax))]\n",
    "    [ax[i].tick_params(axis='x', labelsize=ax_size) for i in range(len(ax))]\n",
    "    [ax[i].tick_params(axis='y', labelsize=ax_size) for i in range(len(ax))]\n",
    "    # Set title\n",
    "    [ax[i].set_title(subplot_title[i], fontsize=18) for i in range(len(ax))]\n",
    "    fg.suptitle(f'{theta}: Empirical distribution function across {no_epi} episodes', fontsize=24)\n",
    "    plt.show()\n"
   ]
  },
  {
   "cell_type": "markdown",
   "metadata": {},
   "source": [
    "## Analyse the Optimal policy $\\pi^{\\ast}(a_n)$\n",
    "Now we dive into the optimal solution (also called policy) found by each strategy. It is only important to have a look to the policy on the last episodes, because we expect each strategy converges to its optimal in the last episodes.\n",
    "\n",
    "You can analyse the policy by playing around with the following parameters:\n",
    " - `ag_id`: id of the RL_agent with a strategy (0: Random; 1: Epsilon-greedy; 2: Thompson-Sampler)\n",
    " - `epi_id`: episode id and please only have a look from eq epi_id = $[89 - 99]$\n",
    " - By playing with these two parameters below, you can see the performance of each strategy\n",
    " - **Remember:** Python indexes are $n-1$ and start from $0$, so our episodes start from $0$ and stop to $99$."
   ]
  },
  {
   "cell_type": "code",
   "execution_count": null,
   "metadata": {},
   "outputs": [],
   "source": [
    "# Result data structure\n",
    "pol_sol = data['policy_sol'] # Optimal policy per agent\n",
    "e_target = data['simulation']['target'] # Energy target per episode (array)\n",
    "ag_label = data['agents']['id'] # Agent type (Random, Epsilon-greedy, Thompson-Sampler)\n",
    "no_offers = data['simulation']['environment'].no_offers # No of offers to trade with\n",
    "no_epi = data['simulation']['episodes'] # Episodes #\n",
    "# Plot parameters\n",
    "ag_id = 2 # Agent type (0, 1, 2...)\n",
    "epi_id = 92 # Episode id\n",
    "ax_label = ['Step #', 'Partner j', 'Reward','Energy (kWh)']\n",
    "ax_size = 16\n",
    "fig, ax = plot_action_choice(pol_sol[ag_id], e_target[epi_id], epi_id, no_offers, (12,8)) # Make the plot\n",
    "# Set labels of each subplot\n",
    "[ax[i].set_xlabel(xlabel=ax_label[0], fontsize=ax_size) for i in range(len(ax))]\n",
    "[ax[i].set_ylabel(ylabel=ax_label[i+1], fontsize=ax_size) for i in range(len(ax))]\n",
    "[ax[i].tick_params(axis='x', labelsize=ax_size) for i in range(len(ax))]\n",
    "[ax[i].tick_params(axis='y', labelsize=ax_size) for i in range(len(ax))]\n",
    "# Set legend of Subplots 2 and 3\n",
    "[ax[i].legend(fontsize=ax_size) for i in np.arange(1, len(ax))]\n",
    "# Set title\n",
    "#[ax[i].set_title(subplot_title[i], fontsize=18) for i in range(len(ax))]\n",
    "fig.suptitle(f'{ag_label[ag_id]}: Solution found on episode {epi_id}', fontsize=18)\n",
    "plt.show()"
   ]
  },
  {
   "cell_type": "markdown",
   "metadata": {},
   "source": [
    "## Retrieve the estimator $Q^{\\ast}_j$ from the optimal policy\n",
    "Please remember that $Q^{\\ast}_j$ is the estimator of probability $p_j = \\text{Pr}(X=1)$ from the Bernoulli distribution $B(1, p_j)$. So $p_j$ is the probability of success and over episodes $i$ the Q-value of each partner $j$ estimates the true value of $p_j$, $Q^i_j = \\hat{p}_j$, where $\\hat{p}_j$ is the estimator. <br>\n",
    "If we assume to play a large number of episodes $i$, with the same assumptions mentioned before, $Q^i_j$ ends up converges towards its optimal value $Q^{\\ast}_j = p_j$. <br>\n",
    "Here, we compute the $Q^i_j$ for the last 10 episodes:"
   ]
  },
  {
   "cell_type": "code",
   "execution_count": 25,
   "metadata": {},
   "outputs": [
    {
     "data": {
      "image/png": "[encoded data removed]",
      "text/plain": [
       "<Figure size 864x576 with 1 Axes>"
      ]
     },
     "metadata": {},
     "output_type": "display_data"
    }
   ],
   "source": [
    "arm_info = data['simulation']['environment'].offers_info # 2-D array with info per arm (col dim: 0-Energy_j, \n",
    "                                                         # 1-price_j, 2-Probability_j)\n",
    "true_p_j = arm_info[:,2] # True probability p_j\n",
    "poli_distr = data['policy_dist'] # List with Q_arm_j per agent. Each list element is a 3-D array (epi x arms_j x feat)\n",
    "outcome = data['outcome']\n",
    "ag_id = [0, 1, 2] # List of RL_agents to analyse\n",
    "label = data['agents']['id'] \n",
    "# Call the plot function\n",
    "fig, ax = plot_final_probability(poli_distr, outcome, ag_id, true_p_j, label, width=0.2,size=(12,8))\n",
    "# Set labels and legend\n",
    "ax.set_xlabel(xlabel='Partner j', fontsize=ax_size)\n",
    "ax.set_ylabel(ylabel='Probability p_j', fontsize=ax_size)\n",
    "ax.tick_params(axis='x', labelsize=ax_size)\n",
    "ax.tick_params(axis='y', labelsize=ax_size)\n",
    "ax.legend(fontsize=ax_size)\n",
    "# Set title\n",
    "fig.suptitle('Optimal estimator Q(arm_j) per RL_agent', fontsize=20)\n",
    "plt.show()\n"
   ]
  },
  {
   "cell_type": "code",
   "execution_count": null,
   "metadata": {
    "scrolled": false
   },
   "outputs": [],
   "source": [
    "ag_id = 0\n",
    "df_score = data['outcome']\n",
    "\n",
    "end_step = df_score[ag_id]['final_step'].to_numpy()\n",
    "ag_pol_sol = pol_sol[ag_id]\n",
    "epi = data['validation']['episodes']\n",
    "\n",
    "for e in range(epi):\n",
    "    aux = ag_pol_sol[0, 0:end_step[e], e] if e == 0 else np.hstack((aux, ag_pol_sol[0, 0:end_step[e], e]))\n",
    "\n",
    "plt.hist(aux, density=False, bins=15)"
   ]
  },
  {
   "cell_type": "code",
   "execution_count": null,
   "metadata": {},
   "outputs": [],
   "source": []
  },
  {
   "cell_type": "code",
   "execution_count": null,
   "metadata": {},
   "outputs": [],
   "source": []
  }
 ],
 "metadata": {
  "kernelspec": {
   "display_name": "RL_env",
   "language": "python",
   "name": "rl_env"
  },
  "language_info": {
   "codemirror_mode": {
    "name": "ipython",
    "version": 3
   },
   "file_extension": ".py",
   "mimetype": "text/x-python",
   "name": "python",
   "nbconvert_exporter": "python",
   "pygments_lexer": "ipython3",
   "version": "3.8.8"
  }
 },
 "nbformat": 4,
 "nbformat_minor": 4
}
